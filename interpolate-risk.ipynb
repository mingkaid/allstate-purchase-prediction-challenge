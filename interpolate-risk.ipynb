{
 "cells": [
  {
   "cell_type": "code",
   "execution_count": 1,
   "metadata": {
    "collapsed": true
   },
   "outputs": [],
   "source": [
    "import pandas as pd\n",
    "import numpy as np\n",
    "import matplotlib.pyplot as plt\n",
    "import scipy.stats\n",
    "from IPython.display import Audio\n",
    "sound_file = './beep-01a.wav'"
   ]
  },
  {
   "cell_type": "code",
   "execution_count": 2,
   "metadata": {
    "collapsed": true
   },
   "outputs": [],
   "source": [
    "train_data = pd.read_csv('train.csv')\n",
    "test_data = pd.read_csv('test_v2.csv')"
   ]
  },
  {
   "cell_type": "markdown",
   "metadata": {},
   "source": [
    "### Because the purpose of this movement is to interpolate risk factor, we are justified to bring in the testing data to train this model"
   ]
  },
  {
   "cell_type": "markdown",
   "metadata": {},
   "source": [
    "To begin, we build the dataset using which we will train the model. First we select all lines that have risk factor, and fill missing values"
   ]
  },
  {
   "cell_type": "code",
   "execution_count": 3,
   "metadata": {
    "collapsed": false,
    "scrolled": true
   },
   "outputs": [
    {
     "name": "stdout",
     "output_type": "stream",
     "text": [
      "['A' 'B' 'C' 'C_previous' 'D' 'E' 'F' 'G' 'age_oldest' 'age_youngest'\n",
      " 'car_age' 'car_value' 'cost' 'customer_ID' 'day' 'duration_previous'\n",
      " 'group_size' 'homeowner' 'location' 'married_couple' 'record_type'\n",
      " 'risk_factor' 'shopping_pt' 'state' 'time']\n"
     ]
    }
   ],
   "source": [
    "# Get a sense of what columns the dataset contains\n",
    "print np.unique(train_data.columns)"
   ]
  },
  {
   "cell_type": "code",
   "execution_count": 8,
   "metadata": {
    "collapsed": true
   },
   "outputs": [],
   "source": [
    "merged_data = train_data.append(test_data, ignore_index=True)\n",
    "merged_data['average_age'] = (merged_data.age_oldest - merged_data.age_youngest) / 2"
   ]
  },
  {
   "cell_type": "code",
   "execution_count": 18,
   "metadata": {
    "collapsed": false,
    "scrolled": true
   },
   "outputs": [],
   "source": [
    "merged_data_risk_notnull = merged_data[merged_data.risk_factor.notnull()]\n",
    "merged_data_risk_predictors = merged_data_risk_notnull[['state', 'location', \n",
    "                                         'homeowner', 'car_age',\n",
    "                                         'car_value', 'average_age', \n",
    "                                         'married_couple', 'duration_previous']]\n",
    "merged_data_risk_label = merged_data_risk_notnull.risk_factor"
   ]
  },
  {
   "cell_type": "code",
   "execution_count": 31,
   "metadata": {
    "collapsed": false,
    "scrolled": false
   },
   "outputs": [
    {
     "data": {
      "text/plain": [
       "state                False\n",
       "location             False\n",
       "homeowner            False\n",
       "car_age              False\n",
       "car_value            False\n",
       "average_age          False\n",
       "married_couple       False\n",
       "duration_previous    False\n",
       "dtype: bool"
      ]
     },
     "execution_count": 31,
     "metadata": {},
     "output_type": "execute_result"
    }
   ],
   "source": [
    "# Find out what columns have empty values\n",
    "def any_null(series):\n",
    "    return any(series.isnull())\n",
    "merged_data_risk_predictors.apply(any_null)"
   ]
  },
  {
   "cell_type": "code",
   "execution_count": 20,
   "metadata": {
    "collapsed": false
   },
   "outputs": [
    {
     "data": {
      "text/html": [
       "\n",
       "                <audio controls=\"controls\" autoplay=\"autoplay\">\n",
       "                    <source src=\"./beep-01a.wav\" type=\"audio/wav\" />\n",
       "                    Your browser does not support the audio element.\n",
       "                </audio>\n",
       "              "
      ],
      "text/plain": [
       "<IPython.lib.display.Audio object>"
      ]
     },
     "execution_count": 20,
     "metadata": {},
     "output_type": "execute_result"
    }
   ],
   "source": [
    "# Interpolate customer location by using the mode of the locations in the state\n",
    "mode = lambda x: int(scipy.stats.mode(x)[0][0])\n",
    "state_location_mode = merged_data_risk_predictors.groupby('state')['location'].apply(mode)\n",
    "Audio(url=sound_file, autoplay=True)"
   ]
  },
  {
   "cell_type": "code",
   "execution_count": 25,
   "metadata": {
    "collapsed": true
   },
   "outputs": [
    {
     "name": "stderr",
     "output_type": "stream",
     "text": [
      "D:\\Anaconda2\\lib\\site-packages\\pandas\\core\\generic.py:2701: SettingWithCopyWarning: \n",
      "A value is trying to be set on a copy of a slice from a DataFrame.\n",
      "Try using .loc[row_indexer,col_indexer] = value instead\n",
      "\n",
      "See the caveats in the documentation: http://pandas.pydata.org/pandas-docs/stable/indexing.html#indexing-view-versus-copy\n",
      "  self[name] = value\n"
     ]
    }
   ],
   "source": [
    "# Fill empty location cells with the location mode of the corresponding states\n",
    "get_state_location = lambda state: state_location_mode[state]\n",
    "merged_data_empty_location = merged_data_risk_predictors[merged_data_risk_predictors.location.isnull()]\n",
    "#merged_data_risk_predictors.state.apply(get_state_location)\n",
    "merged_data_empty_location.location = merged_data_empty_location.state.apply(get_state_location)\n",
    "merged_data_risk_predictors[merged_data_risk_predictors.location.isnull()] = merged_data_empty_location"
   ]
  },
  {
   "cell_type": "code",
   "execution_count": 30,
   "metadata": {
    "collapsed": true
   },
   "outputs": [
    {
     "name": "stderr",
     "output_type": "stream",
     "text": [
      "D:\\Anaconda2\\lib\\site-packages\\ipykernel\\__main__.py:3: SettingWithCopyWarning: \n",
      "A value is trying to be set on a copy of a slice from a DataFrame\n",
      "\n",
      "See the caveats in the documentation: http://pandas.pydata.org/pandas-docs/stable/indexing.html#indexing-view-versus-copy\n",
      "  app.launch_new_instance()\n",
      "D:\\Anaconda2\\lib\\site-packages\\pandas\\core\\generic.py:4485: SettingWithCopyWarning: \n",
      "A value is trying to be set on a copy of a slice from a DataFrame\n",
      "\n",
      "See the caveats in the documentation: http://pandas.pydata.org/pandas-docs/stable/indexing.html#indexing-view-versus-copy\n",
      "  self._update_inplace(new_data)\n",
      "D:\\Anaconda2\\lib\\site-packages\\IPython\\core\\interactiveshell.py:2881: SettingWithCopyWarning: \n",
      "A value is trying to be set on a copy of a slice from a DataFrame\n",
      "\n",
      "See the caveats in the documentation: http://pandas.pydata.org/pandas-docs/stable/indexing.html#indexing-view-versus-copy\n",
      "  exec(code_obj, self.user_global_ns, self.user_ns)\n",
      "D:\\Anaconda2\\lib\\site-packages\\ipykernel\\__main__.py:6: SettingWithCopyWarning: \n",
      "A value is trying to be set on a copy of a slice from a DataFrame\n",
      "\n",
      "See the caveats in the documentation: http://pandas.pydata.org/pandas-docs/stable/indexing.html#indexing-view-versus-copy\n"
     ]
    }
   ],
   "source": [
    "# Assign 'none' for all blank car values, because it can be assumed that those customers with that column blank have no cars. \n",
    "# They belong to a separate class\n",
    "merged_data_risk_predictors.car_value[merged_data_risk_predictors.car_value.isnull()] = 'n'\n",
    "\n",
    "# Assign 0 for all blank duration_previous, because it can be assumed that these customers are new\n",
    "merged_data_risk_predictors.duration_previous[merged_data_risk_predictors.duration_previous.isnull()] = 0"
   ]
  },
  {
   "cell_type": "code",
   "execution_count": 32,
   "metadata": {
    "collapsed": true
   },
   "outputs": [],
   "source": [
    "# Check that the dimension for predictor and labels match\n",
    "assert len(merged_data_risk_predictors) == len(merged_data_risk_label)"
   ]
  },
  {
   "cell_type": "markdown",
   "metadata": {},
   "source": [
    "Then, I want to perform a significance testing, maybe some exploratory analysis at first to make sure that these labels have any relationship at all with the label"
   ]
  },
  {
   "cell_type": "code",
   "execution_count": 36,
   "metadata": {
    "collapsed": false
   },
   "outputs": [],
   "source": [
    "combined_data = merged_data_risk_predictors.copy()\n",
    "combined_data['risk_factor'] = merged_data_risk_label"
   ]
  },
  {
   "cell_type": "code",
   "execution_count": 43,
   "metadata": {
    "collapsed": false,
    "scrolled": true
   },
   "outputs": [
    {
     "data": {
      "text/plain": [
       "risk_factor  homeowner\n",
       "1.0          0            33625\n",
       "             1            95474\n",
       "2.0          0            44398\n",
       "             1            80320\n",
       "3.0          0            75082\n",
       "             1            77209\n",
       "4.0          0            68755\n",
       "             1            73337\n",
       "Name: state, dtype: int64"
      ]
     },
     "execution_count": 43,
     "metadata": {},
     "output_type": "execute_result"
    }
   ],
   "source": [
    "# First, I want to see if there is any relationshp between homeowner and risk factor\n",
    "groupedby_homeowner = combined_data.groupby(['risk_factor', 'homeowner']).count().state\n",
    "groupedby_homeowner"
   ]
  },
  {
   "cell_type": "code",
   "execution_count": 57,
   "metadata": {
    "collapsed": false
   },
   "outputs": [],
   "source": [
    "groupedby_nohome = combined_data[combined_data.homeowner == 0].groupby('risk_factor').count().state.values\n",
    "groupedby_home = combined_data[combined_data.homeowner == 1].groupby('risk_factor').count().state.values"
   ]
  },
  {
   "cell_type": "code",
   "execution_count": 65,
   "metadata": {
    "collapsed": false,
    "scrolled": true
   },
   "outputs": [
    {
     "data": {
      "image/png": "[encoded data removed]",
      "text/plain": [
       "<matplotlib.figure.Figure at 0xe5c0320>"
      ]
     },
     "metadata": {},
     "output_type": "display_data"
    }
   ],
   "source": [
    "# Visualization\n",
    "n_groups = len(np.unique(combined_data.risk_factor))\n",
    "index = np.arange(n_groups)\n",
    "opacity=0.4\n",
    "\n",
    "bar_width = 0.35\n",
    "plt.bar(index, groupedby_nohome, bar_width,\n",
    "        alpha=opacity,\n",
    "        color='r',\n",
    "        label='Not Homeowner')\n",
    "plt.bar(index + bar_width, groupedby_home, bar_width,\n",
    "        alpha=opacity,\n",
    "        color='b',\n",
    "        label='Homeowner')\n",
    "\n",
    "plt.legend()\n",
    "plt.xticks(index + bar_width, sorted(np.unique(combined_data.risk_factor)))\n",
    "plt.tight_layout()\n",
    "plt.show()"
   ]
  },
  {
   "cell_type": "markdown",
   "metadata": {},
   "source": [
    "### It appears that indeed, owning a home has an impact on the risk factor"
   ]
  },
  {
   "cell_type": "code",
   "execution_count": 66,
   "metadata": {
    "collapsed": false,
    "scrolled": false
   },
   "outputs": [
    {
     "data": {
      "text/plain": [
       "array([ 0,  1,  2,  3,  4,  5,  6,  7,  8,  9, 10, 11, 12, 13, 14, 15, 16,\n",
       "       17, 18, 19, 20, 21, 22, 23, 24, 25, 26, 27, 28, 29, 30, 31, 32, 33,\n",
       "       34, 35, 36, 37, 38, 39, 40, 41, 42, 43, 44, 45, 46, 47, 48, 49, 50,\n",
       "       51, 52, 53, 55, 57, 58, 59, 60, 61, 62, 64, 65, 74, 75, 85], dtype=int64)"
      ]
     },
     "execution_count": 66,
     "metadata": {},
     "output_type": "execute_result"
    }
   ],
   "source": [
    "# Next: car age\n",
    "np.unique(combined_data.car_age.values)"
   ]
  },
  {
   "cell_type": "code",
   "execution_count": 93,
   "metadata": {
    "collapsed": false,
    "scrolled": true
   },
   "outputs": [
    {
     "data": {
      "image/png": "[encoded data removed]",
      "text/plain": [
       "<matplotlib.figure.Figure at 0x15ab61d0>"
      ]
     },
     "metadata": {},
     "output_type": "display_data"
    }
   ],
   "source": [
    "risk1 = combined_data[combined_data.risk_factor == 1.0].groupby('car_age').count().state\n",
    "risk2 = combined_data[combined_data.risk_factor == 2.0].groupby('car_age').count().state\n",
    "risk3 = combined_data[combined_data.risk_factor == 3.0].groupby('car_age').count().state\n",
    "risk4 = combined_data[combined_data.risk_factor == 4.0].groupby('car_age').count().state\n",
    "#print len(risk1), len(risk2), len(risk3), len(risk4)\n",
    "index = np.arange(86)\n",
    "#plt.plot(risk1.values, '-', label='1.0')\n",
    "#plt.plot(risk2.values, '-', label='2.0')\n",
    "#plt.plot(risk3.values, '-', label='3.0')\n",
    "#plt.plot(risk4.values, '-', label='4.0')\n",
    "\n",
    "plt.stackplot(index, risk1.reindex(index, fill_value=0), risk2.reindex(index, fill_value=0), \n",
    "              risk3.reindex(index, fill_value=0), risk4.reindex(index, fill_value=0))\n",
    "plt.xlim([1, 30])\n",
    "plt.legend()\n",
    "plt.show()"
   ]
  },
  {
   "cell_type": "markdown",
   "metadata": {},
   "source": [
    "### There does not seem to be a visible relationship between car age and risk factor"
   ]
  },
  {
   "cell_type": "code",
   "execution_count": 116,
   "metadata": {
    "collapsed": true
   },
   "outputs": [],
   "source": [
    "# Cross-validate using logistic regression model, because in any case, \n",
    "# the regression result will tell us what part of the model is helpful\n",
    "from sklearn.ensemble import RandomForestClassifier\n",
    "from sklearn.cross_validation import cross_val_score\n",
    "from sklearn.preprocessing import LabelEncoder, OneHotEncoder"
   ]
  },
  {
   "cell_type": "code",
   "execution_count": 105,
   "metadata": {
    "collapsed": false
   },
   "outputs": [
    {
     "name": "stderr",
     "output_type": "stream",
     "text": [
      "D:\\Anaconda2\\lib\\site-packages\\sklearn\\preprocessing\\label.py:125: DataConversionWarning: A column-vector y was passed when a 1d array was expected. Please change the shape of y to (n_samples, ), for example using ravel().\n",
      "  y = column_or_1d(y, warn=True)\n",
      "D:\\Anaconda2\\lib\\site-packages\\ipykernel\\__main__.py:4: SettingWithCopyWarning: \n",
      "A value is trying to be set on a copy of a slice from a DataFrame.\n",
      "Try using .loc[row_indexer,col_indexer] = value instead\n",
      "\n",
      "See the caveats in the documentation: http://pandas.pydata.org/pandas-docs/stable/indexing.html#indexing-view-versus-copy\n"
     ]
    }
   ],
   "source": [
    "# Prepare the data for learning\n",
    "ordinal_features = ['car_value']\n",
    "le = LabelEncoder()\n",
    "merged_data_risk_predictors['car_value_code'] = le.fit_transform(merged_data_risk_predictors[ordinal_features])\n",
    "#merged_data_risk_predictors.head()"
   ]
  },
  {
   "cell_type": "code",
   "execution_count": 117,
   "metadata": {
    "collapsed": false
   },
   "outputs": [
    {
     "name": "stdout",
     "output_type": "stream",
     "text": [
      "        homeowner  car_age  car_value_code  average_age  married_couple  \\\n",
      "0               0        2               6          2.0               1   \n",
      "1               0        2               6          2.0               1   \n",
      "2               0        2               6          2.0               1   \n",
      "3               0        2               6          2.0               1   \n",
      "4               0        2               6          2.0               1   \n",
      "5               0        2               6          2.0               1   \n",
      "6               0        2               6          2.0               1   \n",
      "7               0        2               6          2.0               1   \n",
      "8               0        2               6          2.0               1   \n",
      "9               0       10               4          0.0               0   \n",
      "10              0       10               4          0.0               0   \n",
      "11              0       10               4          0.0               0   \n",
      "12              0       10               4          0.0               0   \n",
      "13              0       10               4          0.0               0   \n",
      "14              0       10               4          0.0               0   \n",
      "23              1        3               3          1.0               1   \n",
      "24              1        3               3          1.0               1   \n",
      "25              1        3               3          1.0               1   \n",
      "26              1        3               3          1.0               1   \n",
      "27              0        5               3          2.0               1   \n",
      "28              0        5               3          2.0               1   \n",
      "29              0        5               3          2.0               1   \n",
      "30              0        5               3          2.0               1   \n",
      "31              0        5               3          2.0               1   \n",
      "32              0        5               3          2.0               1   \n",
      "51              1        2               5          0.0               0   \n",
      "52              1        2               5          0.0               0   \n",
      "53              1        2               5          0.0               0   \n",
      "54              1        2               5          0.0               0   \n",
      "55              1        2               5          0.0               0   \n",
      "...           ...      ...             ...          ...             ...   \n",
      "864054          1        1               3          1.5               1   \n",
      "864055          1        1               3          1.5               1   \n",
      "864056          1        1               3          1.5               1   \n",
      "864057          1        6               5          0.0               0   \n",
      "864058          1        6               5          0.0               0   \n",
      "864063          0       14               2          0.0               0   \n",
      "864064          0       14               2          0.0               0   \n",
      "864065          0       14               2          0.0               0   \n",
      "864066          1        7               4         11.0               1   \n",
      "864067          1        7               4         11.0               1   \n",
      "864076          0       10               5          0.0               0   \n",
      "864077          0       10               5          0.0               0   \n",
      "864078          0       10               5          0.0               0   \n",
      "864079          0       10               5          0.0               0   \n",
      "864082          0        6               4          0.0               0   \n",
      "864083          0        6               4          0.0               0   \n",
      "864084          0        6               4          0.0               0   \n",
      "864085          0        7               4          0.0               0   \n",
      "864086          0        7               4          0.0               0   \n",
      "864090          1       14               6          0.0               0   \n",
      "864091          1       14               6          0.0               0   \n",
      "864092          0        8               7          3.5               0   \n",
      "864093          0        8               7          3.5               0   \n",
      "864094          0        8               7          3.5               0   \n",
      "864095          0        8               7          3.5               0   \n",
      "864100          1        3               5          0.0               0   \n",
      "864101          1        3               5          0.0               0   \n",
      "864102          1       22               3          0.0               0   \n",
      "864103          1       22               3          0.0               0   \n",
      "864104          1       22               3          0.0               0   \n",
      "\n",
      "        duration_previous  \n",
      "0                     2.0  \n",
      "1                     2.0  \n",
      "2                     2.0  \n",
      "3                     2.0  \n",
      "4                     2.0  \n",
      "5                     2.0  \n",
      "6                     2.0  \n",
      "7                     2.0  \n",
      "8                     2.0  \n",
      "9                    13.0  \n",
      "10                   13.0  \n",
      "11                   13.0  \n",
      "12                   13.0  \n",
      "13                   13.0  \n",
      "14                   13.0  \n",
      "23                    3.0  \n",
      "24                    3.0  \n",
      "25                    3.0  \n",
      "26                    3.0  \n",
      "27                    2.0  \n",
      "28                    2.0  \n",
      "29                    2.0  \n",
      "30                    2.0  \n",
      "31                    2.0  \n",
      "32                    2.0  \n",
      "51                   13.0  \n",
      "52                   13.0  \n",
      "53                   13.0  \n",
      "54                   13.0  \n",
      "55                   13.0  \n",
      "...                   ...  \n",
      "864054                5.0  \n",
      "864055                5.0  \n",
      "864056                5.0  \n",
      "864057                3.0  \n",
      "864058                3.0  \n",
      "864063                3.0  \n",
      "864064                3.0  \n",
      "864065                3.0  \n",
      "864066                8.0  \n",
      "864067                8.0  \n",
      "864076               15.0  \n",
      "864077               15.0  \n",
      "864078               15.0  \n",
      "864079               15.0  \n",
      "864082                3.0  \n",
      "864083                3.0  \n",
      "864084                3.0  \n",
      "864085                1.0  \n",
      "864086                1.0  \n",
      "864090                4.0  \n",
      "864091                4.0  \n",
      "864092                5.0  \n",
      "864093                5.0  \n",
      "864094                5.0  \n",
      "864095                5.0  \n",
      "864100                0.0  \n",
      "864101                8.0  \n",
      "864102                4.0  \n",
      "864103                4.0  \n",
      "864104                4.0  \n",
      "\n",
      "[548200 rows x 6 columns]\n"
     ]
    }
   ],
   "source": [
    "predictors = ['homeowner', 'car_age', 'car_value_code', 'average_age', 'married_couple', 'duration_previous']\n",
    "X = merged_data_risk_predictors[predictors]\n",
    "y = merged_data_risk_label\n",
    "logreg = RandomForestClassifier(random_state=0)\n",
    "clf = cross_val_score(logreg, X, y, cv=5)"
   ]
  },
  {
   "cell_type": "code",
   "execution_count": 118,
   "metadata": {
    "collapsed": false,
    "scrolled": false
   },
   "outputs": [
    {
     "data": {
      "text/plain": [
       "array([ 0.29900038,  0.29377696,  0.29933418,  0.29632704,  0.29568215])"
      ]
     },
     "execution_count": 118,
     "metadata": {},
     "output_type": "execute_result"
    }
   ],
   "source": [
    "clf"
   ]
  },
  {
   "cell_type": "code",
   "execution_count": 119,
   "metadata": {
    "collapsed": false
   },
   "outputs": [
    {
     "data": {
      "text/plain": [
       "0.29682414431524218"
      ]
     },
     "execution_count": 119,
     "metadata": {},
     "output_type": "execute_result"
    }
   ],
   "source": [
    "np.mean(clf)"
   ]
  },
  {
   "cell_type": "code",
   "execution_count": null,
   "metadata": {
    "collapsed": true
   },
   "outputs": [],
   "source": []
  }
 ],
 "metadata": {
  "kernelspec": {
   "display_name": "Python [default]",
   "language": "python",
   "name": "python2"
  },
  "language_info": {
   "codemirror_mode": {
    "name": "ipython",
    "version": 2
   },
   "file_extension": ".py",
   "mimetype": "text/x-python",
   "name": "python",
   "nbconvert_exporter": "python",
   "pygments_lexer": "ipython2",
   "version": "2.7.12"
  }
 },
 "nbformat": 4,
 "nbformat_minor": 1
}
